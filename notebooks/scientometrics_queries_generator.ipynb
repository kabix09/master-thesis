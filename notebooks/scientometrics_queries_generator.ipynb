{
 "cells": [
  {
   "cell_type": "code",
   "execution_count": 20,
   "id": "f01a8400-5267-4dd5-a990-dee8d8f666a1",
   "metadata": {},
   "outputs": [],
   "source": [
    "import pandas as pd\n",
    "import numpy as np\n",
    "import os\n",
    "import random\n",
    "from tqdm import tqdm"
   ]
  },
  {
   "cell_type": "markdown",
   "id": "2a215b64-f49e-4977-ae7c-0607c057c5e0",
   "metadata": {},
   "source": [
    "## Load data"
   ]
  },
  {
   "cell_type": "markdown",
   "id": "b557cdf4-d508-4277-8744-10035a3aa96b",
   "metadata": {},
   "source": [
    "Queries generator will use set of four lists with static words:\n",
    "1. Nouns\n",
    "2. Verbs\n",
    "3. Adjectives\n",
    "4. Gerund (participles)"
   ]
  },
  {
   "cell_type": "code",
   "execution_count": 62,
   "id": "51621b63-98bc-49a3-981e-411bded57aba",
   "metadata": {},
   "outputs": [
    {
     "name": "stdout",
     "output_type": "stream",
     "text": [
      "Nie można znaleźć pliku ../data/raw/gerounds.csv, pomijam...\n"
     ]
    }
   ],
   "source": [
    "collections = [\"nouns\", \"verbs\", \"adjectives\", \"participles\", \"gerounds\"]\n",
    "dfs = {}\n",
    "\n",
    "for name in collections:\n",
    "    column_name = name.capitalize()\n",
    "    csv_path = f\"../data/raw/{name}.csv\"\n",
    "    try:\n",
    "        df = pd.read_csv(csv_path, header=None, names=[column_name])\n",
    "        dfs[name] = df\n",
    "    except FileNotFoundError:\n",
    "        print(f\"Nie można znaleźć pliku {csv_path}, pomijam...\")\n",
    "    except Exception as e:\n",
    "        print(f\"Wystąpił błąd podczas odczytu pliku {csv_path}: {e}\")\n",
    "\n",
    "nouns_df = dfs[\"nouns\"]\n",
    "verbs_df = dfs[\"verbs\"]\n",
    "adjectives_df = dfs[\"adjectives\"]\n",
    "participles_df = dfs[\"participles\"]"
   ]
  },
  {
   "cell_type": "markdown",
   "id": "534d1cd9-082d-4945-be63-9929e8173a7e",
   "metadata": {},
   "source": [
    "## Query generator"
   ]
  },
  {
   "cell_type": "markdown",
   "id": "3b39c2c1-0ee7-4ac2-a696-fb1b52c7fe0b",
   "metadata": {},
   "source": [
    "Sample code snippet to generate sentences that are candidate phrases for search queries. Which will be used in a search engine to find articles on a similar topic."
   ]
  },
  {
   "cell_type": "code",
   "execution_count": 57,
   "id": "297b44f1-1f2e-4cf3-9879-6f1bb6e078c6",
   "metadata": {},
   "outputs": [],
   "source": [
    "def query_generator(nouns, verbs, adjectives, participles, limit):\n",
    "    for _ in range(limit):\n",
    "        noun = random.choice(nouns)[0]\n",
    "        verb = random.choice(verbs)[0]\n",
    "        adjective = random.choice(adjectives)[0]\n",
    "        participle = random.choice(participles)[0]\n",
    "        \n",
    "        yield f\"Is {noun} {verb} {adjective} {participle}?\""
   ]
  },
  {
   "cell_type": "markdown",
   "id": "ce411832-950a-4db0-8343-ae325fdf4b3d",
   "metadata": {},
   "source": [
    "### 1. Language Tool"
   ]
  },
  {
   "cell_type": "markdown",
   "id": "9bd19d5b-d9c0-4d2f-9c18-45201e343915",
   "metadata": {},
   "source": [
    "First attempt to make queries more natrual with `Language Tool` library\n",
    "\n",
    "Source: [Githube](https://github.com/Findus23/pyLanguagetool) </br>\n",
    "Tutorial: [here](https://www.kaggle.com/code/yeoyunsianggeremie/how-to-use-language-tool-python-without-internet)"
   ]
  },
  {
   "cell_type": "code",
   "execution_count": 72,
   "id": "26639521-a737-42ef-b45d-ecc642233dcf",
   "metadata": {},
   "outputs": [],
   "source": [
    "from language_tool_python import LanguageTool\n",
    "\n",
    "def correct_sentence_lt(sentence: list, debug: bool = False) -> str:\n",
    "    \"\"\"\n",
    "    Corrects a sentence using LanguageTool.\n",
    "\n",
    "    Args:\n",
    "        sentence (str): The sentence to correct.\n",
    "        debug (bool, optional): A flag indicating whether to display matches, defaults to False.\n",
    "\n",
    "    Returns:\n",
    "        str: The corrected sentence.\n",
    "    \"\"\"\n",
    "    lt = LanguageTool('en-US')\n",
    "    matches = lt.check(sentence)\n",
    "\n",
    "    if debug:\n",
    "        display(matches)\n",
    "\n",
    "    return lt.correct(sentence)"
   ]
  },
  {
   "cell_type": "markdown",
   "id": "f8db01f5-39d8-4d15-b853-92c542ed694b",
   "metadata": {},
   "source": [
    "### 2. Gramformer"
   ]
  },
  {
   "cell_type": "markdown",
   "id": "798a57f2-6111-45e6-a532-3a94c237147c",
   "metadata": {},
   "source": [
    "Second attempt to build more consistent sentences this time with `Gramformer`\n",
    "\n",
    "Source: [Githube](https://github.com/thevkrant/gramformer) </br>\n",
    "Tutorial: [here](https://www.vennify.ai/gramformer-correct-grammar-transformer-nlp/)"
   ]
  },
  {
   "cell_type": "code",
   "execution_count": null,
   "id": "c68450b7-0416-4ddd-bd13-d38c4cb7a195",
   "metadata": {},
   "outputs": [],
   "source": [
    "from gramformer import Gramformer\n",
    "import torch\n",
    "\n",
    "def set_seed(seed):\n",
    "    torch.manual_seed(seed)\n",
    "    if torch.cuda.is_available():\n",
    "        torch.cuda.manual_seed_all(seed)\n",
    "    else:\n",
    "        print(f\"`Cuda` is unavailable\")\n",
    "\n",
    "def correct_sentence_gf(gf: Gramformer, sentence: str, debug = False) -> str:\n",
    "    \"\"\"\n",
    "    Corrects a sentence using Gramformer.\n",
    "\n",
    "    Args:\n",
    "        gf (Gramformer): The Gramformer object to use for correction.\n",
    "        sentence (str): The sentence to correct.\n",
    "        debug (bool, optional): A flag indicating whether to display matches, defaults to False.\n",
    "\n",
    "    Returns:\n",
    "        str: The corrected sentence.\n",
    "    \"\"\"\n",
    "\n",
    "    return gf.correct(sentence, max_candidates=1)[0]"
   ]
  },
  {
   "cell_type": "code",
   "execution_count": 66,
   "id": "db8b3447-b416-4ff7-8f1e-fb8a40a96626",
   "metadata": {},
   "outputs": [
    {
     "data": {
      "text/plain": [
       "847796"
      ]
     },
     "metadata": {},
     "output_type": "display_data"
    }
   ],
   "source": [
    "queries = query_generator(nouns_df.values.tolist(), verbs_df.values.tolist(), adjectives_df.values.tolist(), participles_df.values.tolist(), 850000)\n",
    "\n",
    "queries_df = pd.DataFrame({'Query': queries})\n",
    "display(len(queries_df['Query'].unique()))\n",
    "\n",
    "# CODE TO TEST LIBRARIES FIXING SENTENCES\n",
    "# First: dont work very well\n",
    "# Second: Make sentences better\n",
    "#\n",
    "# for query in queries:\n",
    "#     print(query)\n",
    "\n",
    "#     if True:\n",
    "#         lt = LanguageTool('en-US')\n",
    "#         correct_sentence_lt(lt, query)\n",
    "#     else:\n",
    "#         gf = Gramformer(models = 1, use_gpu=True)\n",
    "#         correct_sentence_gf(gf, query)"
   ]
  },
  {
   "cell_type": "code",
   "execution_count": 69,
   "id": "ec3b0c06-176e-4ec0-8a5d-2f2e0a2ec3fe",
   "metadata": {},
   "outputs": [],
   "source": [
    "# Saving generated sentences\n",
    "queries_df.drop_duplicates(subset=['Query'])\n",
    "queries_df.to_csv('../data/queries_df.csv', index=False)"
   ]
  },
  {
   "cell_type": "markdown",
   "id": "d194c276-4dc5-482b-860e-f41288d6ffca",
   "metadata": {},
   "source": [
    "### Improve the sentence test"
   ]
  },
  {
   "cell_type": "code",
   "execution_count": null,
   "id": "2370407f-f174-4471-83d4-85917daccbfc",
   "metadata": {},
   "outputs": [],
   "source": [
    "# Make sentences better but last too long (about 160h)\n",
    "gf_query = pd.DataFrame(columns=['Query'])\n",
    "\n",
    "corrected_queries = []\n",
    "\n",
    "index_map = {}\n",
    "\n",
    "set_seed(1212)\n",
    "gf = Gramformer(models=1, use_gpu=True)\n",
    "\n",
    "for i, query in enumerate(tqdm(queries_df['Query'])):\n",
    "    correct_query = correct_sentence_gf(gf, query)\n",
    "    corrected_queries.append(correct_query[0])\n",
    "    index_map[i] = correct_query[0]\n",
    "\n",
    "gf_query = pd.DataFrame(corrected_queries, columns=['Query'])\n",
    "gf_query.to_csv('../data/queries_gramformer_df.csv', index=False)"
   ]
  }
 ],
 "metadata": {
  "kernelspec": {
   "display_name": "Python 3 (ipykernel)",
   "language": "python",
   "name": "python3"
  },
  "language_info": {
   "codemirror_mode": {
    "name": "ipython",
    "version": 3
   },
   "file_extension": ".py",
   "mimetype": "text/x-python",
   "name": "python",
   "nbconvert_exporter": "python",
   "pygments_lexer": "ipython3",
   "version": "3.11.4"
  }
 },
 "nbformat": 4,
 "nbformat_minor": 5
}
