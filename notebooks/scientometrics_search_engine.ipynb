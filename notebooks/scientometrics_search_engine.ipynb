{
 "cells": [
  {
   "cell_type": "code",
   "execution_count": 4,
   "id": "f01a8400-5267-4dd5-a990-dee8d8f666a1",
   "metadata": {},
   "outputs": [],
   "source": [
    "import pandas as pd\n",
    "import numpy as np\n",
    "import os\n",
    "from tqdm import tqdm"
   ]
  },
  {
   "cell_type": "markdown",
   "id": "2a215b64-f49e-4977-ae7c-0607c057c5e0",
   "metadata": {},
   "source": [
    "## Load data"
   ]
  },
  {
   "cell_type": "code",
   "execution_count": 5,
   "id": "51621b63-98bc-49a3-981e-411bded57aba",
   "metadata": {},
   "outputs": [],
   "source": [
    "# Wczytaj dane z pliku CSV\n",
    "csv_file_path = \"../data/interim//articles_with_score_df.csv\"\n",
    "df = pd.read_csv(csv_file_path)"
   ]
  },
  {
   "cell_type": "markdown",
   "id": "9b40a88f-e4bf-4a18-97a6-ef0862782d75",
   "metadata": {},
   "source": [
    "### Prepare embedding"
   ]
  },
  {
   "cell_type": "code",
   "execution_count": 7,
   "id": "5e805685-548e-4da8-9531-a54705801bb0",
   "metadata": {},
   "outputs": [
    {
     "name": "stderr",
     "output_type": "stream",
     "text": [
      "100%|███████████████████████████████████████████████████████████████████████| 850406/850406 [1:27:03<00:00, 162.79it/s]\n"
     ]
    }
   ],
   "source": [
    "from sentence_transformers import SentenceTransformer, util\n",
    "import torch\n",
    "\n",
    "if torch.cuda.is_available():\n",
    "    print(\"CUDA is available: \", torch.cuda.is_available())   \n",
    "    print(\"Number of CUDA devices: \", torch.cuda.device_count())\n",
    "    print(\"CUDA current device: \", torch.cuda.current_device())\n",
    "    print(\"CUDA device name: \", torch.cuda.get_device_name(0))\n",
    "\n",
    "    # Utwórz instancję modelu SentenceTransformer\n",
    "    model = SentenceTransformer(\"all-MiniLM-L6-v2\", device='cuda')\n",
    "else:\n",
    "    model = SentenceTransformer(\"all-MiniLM-L6-v2\", device='cpu')\n",
    "\n",
    "# Zanurzenie tytułów\n",
    "titles = df['title'].tolist()\n",
    "\n",
    "titles_embeddings = []\n",
    "\n",
    "for title in tqdm(titles):\n",
    "    embedding = model.encode([title])\n",
    "    titles_embeddings.append(embedding[0])\n",
    "\n",
    "df['embedding'] = titles_embeddings"
   ]
  },
  {
   "cell_type": "markdown",
   "id": "530c4c4f-80d2-42b1-9c47-6dcafa0d928f",
   "metadata": {},
   "source": [
    "## Load data to Vector DB (chroma)"
   ]
  },
  {
   "cell_type": "code",
   "execution_count": 37,
   "id": "790d6c53-1b5c-4fc6-a10a-51cb8ce0216c",
   "metadata": {},
   "outputs": [
    {
     "name": "stderr",
     "output_type": "stream",
     "text": [
      "Batches: 100%|██████████████████████████████████████████████████████████████████████| 86/86 [27:16<00:00, 19.03s/batch]\n"
     ]
    },
    {
     "name": "stdout",
     "output_type": "stream",
     "text": [
      "Last confirmed ID: 850406\n",
      "Size of the collection: 850406\n"
     ]
    }
   ],
   "source": [
    "import chromadb\n",
    "from chromadb.config import Settings\n",
    "\n",
    "chroma_client = chromadb.HttpClient(host=\"localhost\", port = 8000, settings=Settings(allow_reset=True, anonymized_telemetry=False))\n",
    "\n",
    "collection_status = False\n",
    "while collection_status != True:\n",
    "    try:\n",
    "        document_collection = chroma_client.get_or_create_collection(name=\"articles_with_score\")\n",
    "        collection_status = True\n",
    "    except Exception as e:\n",
    "        pass\n",
    "\n",
    "batch_size = 10000\n",
    "last_confirmed_id = 0\n",
    "\n",
    "# Dzielimy DataFrame na tablice po 10 000 elementów\n",
    "for batch_start in tqdm(range(0, df.shape[0], batch_size), desc='Batches', unit='batch'):\n",
    "    batch_df = df.iloc[batch_start:batch_start + batch_size]\n",
    "\n",
    "    # Pobieramy listę embeddingów, dokumentów, metadanych i id dla bieżącej partii\n",
    "    batch_embeddings = batch_df['embedding'].apply(lambda x: x.tolist()).tolist()\n",
    "    batch_documents = batch_df['title'].tolist()\n",
    "    batch_metadatas = [{'year': row['year'], 'n_citation': row['n_citation'], 'gov_score': row['gov_score']} for index, row in batch_df.iterrows()]\n",
    "    batch_ids = [str(index + 1) for index in batch_df.index]\n",
    "    \n",
    "    # Dodajemy partię danych do kolekcji\n",
    "    document_collection.add(\n",
    "        embeddings=batch_embeddings,\n",
    "        documents=batch_documents,\n",
    "        metadatas=batch_metadatas,\n",
    "        ids=batch_ids\n",
    "    )\n",
    "\n",
    "    # Aktualizujemy last_confirmed_id\n",
    "    last_confirmed_id = batch_df.index[-1] + 1\n",
    "\n",
    "# Wypisz ostatnio potwierdzone ID\n",
    "print(\"Last confirmed ID:\", last_confirmed_id)\n",
    "\n",
    "\n",
    "# Check the size of the collection\n",
    "try:\n",
    "    collection_size = document_collection.count()\n",
    "    print(\"Size of the collection:\", collection_size)\n",
    "except Exception as e:\n",
    "    print(\"Failed to get collection size:\", e)"
   ]
  },
  {
   "cell_type": "code",
   "execution_count": 42,
   "id": "925d1178-bea0-44f5-b498-0f3bbfbc282e",
   "metadata": {},
   "outputs": [],
   "source": [
    "# delete local dataset to clear RAM\n",
    "del df"
   ]
  },
  {
   "cell_type": "code",
   "execution_count": 38,
   "id": "c9d8e239-390c-4015-ab00-9cbf17522636",
   "metadata": {},
   "outputs": [
    {
     "data": {
      "text/plain": [
       "850406"
      ]
     },
     "execution_count": 38,
     "metadata": {},
     "output_type": "execute_result"
    }
   ],
   "source": [
    "# CLEAR\n",
    "document_collection.count()\n",
    "\n",
    "#ids = document_collection.get()['ids']\n",
    "#document_collection.delete(ids)\n",
    "#document_collection.count()\n"
   ]
  },
  {
   "cell_type": "code",
   "execution_count": null,
   "id": "9383ca3d-df22-427f-835a-28b2bb5cca7e",
   "metadata": {},
   "outputs": [],
   "source": []
  }
 ],
 "metadata": {
  "kernelspec": {
   "display_name": "Python 3 (ipykernel)",
   "language": "python",
   "name": "python3"
  },
  "language_info": {
   "codemirror_mode": {
    "name": "ipython",
    "version": 3
   },
   "file_extension": ".py",
   "mimetype": "text/x-python",
   "name": "python",
   "nbconvert_exporter": "python",
   "pygments_lexer": "ipython3",
   "version": "3.11.4"
  }
 },
 "nbformat": 4,
 "nbformat_minor": 5
}
